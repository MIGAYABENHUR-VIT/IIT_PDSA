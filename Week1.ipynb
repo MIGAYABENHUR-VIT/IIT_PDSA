{
  "nbformat": 4,
  "nbformat_minor": 0,
  "metadata": {
    "colab": {
      "provenance": [],
      "include_colab_link": true
    },
    "kernelspec": {
      "name": "python3",
      "display_name": "Python 3"
    },
    "language_info": {
      "name": "python"
    }
  },
  "cells": [
    {
      "cell_type": "markdown",
      "metadata": {
        "id": "view-in-github",
        "colab_type": "text"
      },
      "source": [
        "<a href=\"https://colab.research.google.com/github/MIGAYABENHUR-VIT/IIT_PDSA/blob/main/Week1.ipynb\" target=\"_parent\"><img src=\"https://colab.research.google.com/assets/colab-badge.svg\" alt=\"Open In Colab\"/></a>"
      ]
    },
    {
      "cell_type": "markdown",
      "source": [
        "##GCD of TWO Numbers"
      ],
      "metadata": {
        "id": "paYICvAEb2P_"
      }
    },
    {
      "cell_type": "code",
      "source": [
        "def gcd(m,n):\n",
        "  cf = []\n",
        "  for i in range(1,min(m,n)+1):\n",
        "    if (m%i) == 0 and (n%i) == 0:\n",
        "      cf.append(i)\n",
        "  return(cf[-1])"
      ],
      "metadata": {
        "id": "jxGpgbyHdobU"
      },
      "execution_count": null,
      "outputs": []
    },
    {
      "cell_type": "code",
      "source": [
        "gcd(12,16)"
      ],
      "metadata": {
        "colab": {
          "base_uri": "https://localhost:8080/"
        },
        "id": "zykYiVFReABu",
        "outputId": "6976a75c-05c4-4797-e484-1d02c16d03b5"
      },
      "execution_count": null,
      "outputs": [
        {
          "output_type": "execute_result",
          "data": {
            "text/plain": [
              "4"
            ]
          },
          "metadata": {},
          "execution_count": 5
        }
      ]
    },
    {
      "cell_type": "markdown",
      "source": [
        "####Using Eliminate"
      ],
      "metadata": {
        "id": "T7lqfUxeeDZS"
      }
    },
    {
      "cell_type": "code",
      "source": [
        "def gcd(m,n):\n",
        "  cf = []\n",
        "  for i in range(1,min(m,n)+1):\n",
        "    if (m%i) == 0 and (n%i) == 0:\n",
        "      mrcf=i\n",
        "  return(mrcf)"
      ],
      "metadata": {
        "id": "EgrFc_GcgLZJ"
      },
      "execution_count": null,
      "outputs": []
    },
    {
      "cell_type": "markdown",
      "source": [
        "##Checking Primality"
      ],
      "metadata": {
        "id": "cBEFdn_Zgvqy"
      }
    },
    {
      "cell_type": "code",
      "source": [
        "def factors(n):\n",
        "  fl=[]\n",
        "  for i in range(1,n+1):\n",
        "    if (n%i) == 0:\n",
        "      fl.append(i)\n",
        "  return(fl)\n",
        "\n",
        "def prime(n):\n",
        "  return(factors(n)==[1,n])"
      ],
      "metadata": {
        "id": "VT7KMOi3gz7b"
      },
      "execution_count": null,
      "outputs": []
    },
    {
      "cell_type": "code",
      "source": [
        "prime(8)"
      ],
      "metadata": {
        "colab": {
          "base_uri": "https://localhost:8080/"
        },
        "id": "E7SnxOeZhfEn",
        "outputId": "a51aad07-f1e8-4560-8422-a221a620a104"
      },
      "execution_count": null,
      "outputs": [
        {
          "output_type": "execute_result",
          "data": {
            "text/plain": [
              "False"
            ]
          },
          "metadata": {},
          "execution_count": 13
        }
      ]
    },
    {
      "cell_type": "markdown",
      "source": [
        "###Couting Primes"
      ],
      "metadata": {
        "id": "SHrx-bAehhVn"
      }
    },
    {
      "cell_type": "code",
      "source": [
        "def primeupto(m):\n",
        "  pl = []\n",
        "  for i in range(1,m+1):\n",
        "    if prime(i):\n",
        "      pl.append(i)\n",
        "  return(pl)"
      ],
      "metadata": {
        "id": "bjWOLvDshx_y"
      },
      "execution_count": null,
      "outputs": []
    },
    {
      "cell_type": "code",
      "source": [
        "primeupto(10)"
      ],
      "metadata": {
        "colab": {
          "base_uri": "https://localhost:8080/"
        },
        "id": "Css_rn6AiFQT",
        "outputId": "6e861caf-c1fa-4e16-ce3f-0fc92501b20e"
      },
      "execution_count": null,
      "outputs": [
        {
          "output_type": "execute_result",
          "data": {
            "text/plain": [
              "[2, 3, 5, 7]"
            ]
          },
          "metadata": {},
          "execution_count": 17
        }
      ]
    },
    {
      "cell_type": "markdown",
      "source": [
        "###Primes upto m"
      ],
      "metadata": {
        "id": "qDCsU0N1iHg6"
      }
    },
    {
      "cell_type": "code",
      "source": [
        "def firstprimes(m):\n",
        "  (count,i,pl) = (0,1,[])\n",
        "  while (count<m):\n",
        "    if prime(i):\n",
        "      (count,pl) = (count+1,pl+[i])\n",
        "    i=i+1\n",
        "  return(pl)"
      ],
      "metadata": {
        "id": "Qva6epIYi7ty"
      },
      "execution_count": null,
      "outputs": []
    },
    {
      "cell_type": "code",
      "source": [
        "firstprimes(10)"
      ],
      "metadata": {
        "colab": {
          "base_uri": "https://localhost:8080/"
        },
        "id": "X7uC5aO_jcqD",
        "outputId": "dca66306-4c48-4d81-cb77-1e930d79b641"
      },
      "execution_count": null,
      "outputs": [
        {
          "output_type": "execute_result",
          "data": {
            "text/plain": [
              "[2, 3, 5, 7, 11, 13, 17, 19, 23, 29]"
            ]
          },
          "metadata": {},
          "execution_count": 22
        }
      ]
    },
    {
      "cell_type": "markdown",
      "source": [
        "###Computing prime"
      ],
      "metadata": {
        "id": "8Cz7CEuejf_T"
      }
    },
    {
      "cell_type": "code",
      "source": [
        "def prime(n):\n",
        "  result = True\n",
        "  for i in range(2,n):\n",
        "    if (n%i) == 0:\n",
        "      result = False\n",
        "      break\n",
        "  return(result)"
      ],
      "metadata": {
        "id": "bJO_1DUymNhP"
      },
      "execution_count": null,
      "outputs": []
    },
    {
      "cell_type": "code",
      "source": [],
      "metadata": {
        "id": "GadYfjzcmfLD"
      },
      "execution_count": null,
      "outputs": []
    },
    {
      "cell_type": "markdown",
      "source": [
        "##Exception Handling"
      ],
      "metadata": {
        "id": "7WHJUIQdnsBA"
      }
    },
    {
      "cell_type": "code",
      "source": [],
      "metadata": {
        "id": "BgiHUfA2nuH6"
      },
      "execution_count": null,
      "outputs": []
    }
  ]
}